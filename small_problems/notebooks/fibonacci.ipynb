{
 "cells": [
  {
   "cell_type": "markdown",
   "source": [
    "# The Fibonacci sequence\n",
    "The Fibonacci sequence is a sequence of numbers such that any number, except for the first and second, is the sum of the \n",
    "previous two:\n",
    "\n",
    "```0, 1, 1, 2, 3, 5, 8, 13, 21...```\n",
    "\n",
    "The value of the first Fibonacci number in the sequence is 0. The value of the fourth Fibonacci number is 2. It follows \n",
    "that to get the value of any Fibonacci num- ber, n, in the sequence, one can use the formula\n",
    "\n",
    "```pythonfib(n) = fib(n - 1) + fib(n - 2)```\n"
   ],
   "metadata": {
    "collapsed": false,
    "pycharm": {
     "name": "#%% md\n"
    }
   }
  },
  {
   "cell_type": "markdown",
   "source": [
    "## A first recursive attempt\n",
    "The preceding formula for computing a number in the Fibonacci sequence is a form of pseudocode that can be trivially \n",
    "translated into a recursive Python function. (A recursive function is a function that calls itself.) This mechanical \n",
    "translation will serve as our first attempt at writing a function to return a given value of the Fibonacci sequence.\n"
   ],
   "metadata": {
    "collapsed": false,
    "pycharm": {
     "name": "#%% md\n"
    }
   }
  },
  {
   "cell_type": "code",
   "execution_count": 1,
   "outputs": [
    {
     "traceback": [
      "\u001b[0;31m---------------------------------------------------------------------------\u001b[0m",
      "\u001b[0;31mRecursionError\u001b[0m                            Traceback (most recent call last)",
      "\u001b[0;32m<ipython-input-1-f317d4686a0e>\u001b[0m in \u001b[0;36m<module>\u001b[0;34m\u001b[0m\n\u001b[1;32m      2\u001b[0m     \u001b[0;32mreturn\u001b[0m \u001b[0mfib1\u001b[0m\u001b[0;34m(\u001b[0m\u001b[0mn\u001b[0m \u001b[0;34m-\u001b[0m \u001b[0;36m1\u001b[0m\u001b[0;34m)\u001b[0m \u001b[0;34m+\u001b[0m \u001b[0mfib1\u001b[0m\u001b[0;34m(\u001b[0m\u001b[0mn\u001b[0m \u001b[0;34m-\u001b[0m \u001b[0;36m2\u001b[0m\u001b[0;34m)\u001b[0m\u001b[0;34m\u001b[0m\u001b[0;34m\u001b[0m\u001b[0m\n\u001b[1;32m      3\u001b[0m \u001b[0;34m\u001b[0m\u001b[0m\n\u001b[0;32m----> 4\u001b[0;31m \u001b[0mprint\u001b[0m\u001b[0;34m(\u001b[0m\u001b[0mfib1\u001b[0m\u001b[0;34m(\u001b[0m\u001b[0;36m5\u001b[0m\u001b[0;34m)\u001b[0m\u001b[0;34m)\u001b[0m\u001b[0;34m\u001b[0m\u001b[0;34m\u001b[0m\u001b[0m\n\u001b[0m",
      "\u001b[0;32m<ipython-input-1-f317d4686a0e>\u001b[0m in \u001b[0;36mfib1\u001b[0;34m(n)\u001b[0m\n\u001b[1;32m      1\u001b[0m \u001b[0;32mdef\u001b[0m \u001b[0mfib1\u001b[0m\u001b[0;34m(\u001b[0m\u001b[0mn\u001b[0m\u001b[0;34m:\u001b[0m \u001b[0mint\u001b[0m\u001b[0;34m)\u001b[0m \u001b[0;34m->\u001b[0m \u001b[0mint\u001b[0m\u001b[0;34m:\u001b[0m\u001b[0;34m\u001b[0m\u001b[0;34m\u001b[0m\u001b[0m\n\u001b[0;32m----> 2\u001b[0;31m     \u001b[0;32mreturn\u001b[0m \u001b[0mfib1\u001b[0m\u001b[0;34m(\u001b[0m\u001b[0mn\u001b[0m \u001b[0;34m-\u001b[0m \u001b[0;36m1\u001b[0m\u001b[0;34m)\u001b[0m \u001b[0;34m+\u001b[0m \u001b[0mfib1\u001b[0m\u001b[0;34m(\u001b[0m\u001b[0mn\u001b[0m \u001b[0;34m-\u001b[0m \u001b[0;36m2\u001b[0m\u001b[0;34m)\u001b[0m\u001b[0;34m\u001b[0m\u001b[0;34m\u001b[0m\u001b[0m\n\u001b[0m\u001b[1;32m      3\u001b[0m \u001b[0;34m\u001b[0m\u001b[0m\n\u001b[1;32m      4\u001b[0m \u001b[0mprint\u001b[0m\u001b[0;34m(\u001b[0m\u001b[0mfib1\u001b[0m\u001b[0;34m(\u001b[0m\u001b[0;36m5\u001b[0m\u001b[0;34m)\u001b[0m\u001b[0;34m)\u001b[0m\u001b[0;34m\u001b[0m\u001b[0;34m\u001b[0m\u001b[0m\n",
      "... last 1 frames repeated, from the frame below ...\n",
      "\u001b[0;32m<ipython-input-1-f317d4686a0e>\u001b[0m in \u001b[0;36mfib1\u001b[0;34m(n)\u001b[0m\n\u001b[1;32m      1\u001b[0m \u001b[0;32mdef\u001b[0m \u001b[0mfib1\u001b[0m\u001b[0;34m(\u001b[0m\u001b[0mn\u001b[0m\u001b[0;34m:\u001b[0m \u001b[0mint\u001b[0m\u001b[0;34m)\u001b[0m \u001b[0;34m->\u001b[0m \u001b[0mint\u001b[0m\u001b[0;34m:\u001b[0m\u001b[0;34m\u001b[0m\u001b[0;34m\u001b[0m\u001b[0m\n\u001b[0;32m----> 2\u001b[0;31m     \u001b[0;32mreturn\u001b[0m \u001b[0mfib1\u001b[0m\u001b[0;34m(\u001b[0m\u001b[0mn\u001b[0m \u001b[0;34m-\u001b[0m \u001b[0;36m1\u001b[0m\u001b[0;34m)\u001b[0m \u001b[0;34m+\u001b[0m \u001b[0mfib1\u001b[0m\u001b[0;34m(\u001b[0m\u001b[0mn\u001b[0m \u001b[0;34m-\u001b[0m \u001b[0;36m2\u001b[0m\u001b[0;34m)\u001b[0m\u001b[0;34m\u001b[0m\u001b[0;34m\u001b[0m\u001b[0m\n\u001b[0m\u001b[1;32m      3\u001b[0m \u001b[0;34m\u001b[0m\u001b[0m\n\u001b[1;32m      4\u001b[0m \u001b[0mprint\u001b[0m\u001b[0;34m(\u001b[0m\u001b[0mfib1\u001b[0m\u001b[0;34m(\u001b[0m\u001b[0;36m5\u001b[0m\u001b[0;34m)\u001b[0m\u001b[0;34m)\u001b[0m\u001b[0;34m\u001b[0m\u001b[0;34m\u001b[0m\u001b[0m\n",
      "\u001b[0;31mRecursionError\u001b[0m: maximum recursion depth exceeded"
     ],
     "ename": "RecursionError",
     "evalue": "maximum recursion depth exceeded",
     "output_type": "error"
    }
   ],
   "source": [
    "def fib1(n: int) -> int:\n",
    "    return fib1(n - 1) + fib1(n - 2)\n",
    "\n",
    "print(fib1(5))"
   ],
   "metadata": {
    "collapsed": false,
    "pycharm": {
     "name": "#%%\n",
     "is_executing": false
    }
   }
  },
  {
   "cell_type": "markdown",
   "source": [
    "Uh-oh! If we try to run ```fib1```, we generate an error:\n",
    "```RecursionError: maximum recursion depth exceeded```\n",
    "\n",
    "The issue is that fib1() will run forever without returning a final result. Every call to fib1() results in another two \n",
    "calls of fib1() with no end in sight. We call such a circumstance infinite recursion, and it is \n",
    "analogous to an infinite loop.\n"
   ],
   "metadata": {
    "collapsed": false
   }
  },
  {
   "cell_type": "markdown",
   "source": [
    "## Utilizing base cases\n",
    "Notice that until you run fib1(), there is no indication from your Python environment that there is anything wrong with it. \n",
    "It is the duty of the programmer to avoid infinite recursion, not the compiler or the interpreter. \n",
    "The reason for the infinite recursion is that we never specified a base case. In a recursive function, \n",
    "a base case serves as a stopping point.\n",
    "\n",
    "In the case of the Fibonacci function, we have natural base cases in the form of the special first two sequence values, 0 and 1. \n",
    "Neither 0 nor 1 is the sum of the previous two numbers in the sequence. Instead, they are the special first two values. \n",
    "Let’s try specifying them as base cases.\n"
   ],
   "metadata": {
    "collapsed": false
   }
  },
  {
   "cell_type": "code",
   "execution_count": 3,
   "outputs": [
    {
     "name": "stdout",
     "text": [
      "5\n55\n"
     ],
     "output_type": "stream"
    }
   ],
   "source": [
    "def fib2(n: int) -> int: \n",
    "    if n < 2: #basecase\n",
    "        return n\n",
    "    return fib2(n - 2) + fib2(n - 1) # recursive case\n",
    "\n",
    "print(fib2(5))\n",
    "print(fib2(10))"
   ],
   "metadata": {
    "collapsed": false,
    "pycharm": {
     "name": "#%%\n",
     "is_executing": false
    }
   }
  },
  {
   "cell_type": "markdown",
   "source": [
    "> **NOTE** The fib2() version of the Fibonacci function returns 0 as the zeroth number (fib2(0)), rather than the first number, \n",
    "as in our original proposition. In a programming context, this kind of makes sense because we are used to sequences starting with a zeroth element.\n",
    "\n"
   ],
   "metadata": {
    "collapsed": false
   }
  },
  {
   "cell_type": "markdown",
   "source": [
    "Do not try calling fib2(50). It will never finish executing! \n",
    "Why? Every call to fib2() results in two more calls to fib2() by way of the recursive calls fib2(n - 1) and fib2(n - 2). \n",
    "In other words, the call tree grows exponentially.\n"
   ],
   "metadata": {
    "collapsed": false
   }
  },
  {
   "cell_type": "markdown",
   "source": [
    "## Memoization to the rescue\n",
    "Memoization is a technique in which you store the results of computational tasks when they are completed so that when \n",
    "you need them again, you can look them up instead of needing to compute them a second (or millionth) time\n"
   ],
   "metadata": {
    "collapsed": false
   }
  },
  {
   "cell_type": "code",
   "execution_count": 5,
   "outputs": [
    {
     "name": "stdout",
     "text": [
      "5\n12586269025\n"
     ],
     "output_type": "stream"
    }
   ],
   "source": [
    "from typing import Dict\n",
    "\n",
    "\n",
    "memo: Dict[int, int] = {0: 0, 1: 1} # our base cases\n",
    "\n",
    "def fib3(n: int) -> int: \n",
    "    if n not in memo:\n",
    "        memo[n] = fib3(n - 1) + fib3(n - 2) # memoization return memo[n]\n",
    "    return memo[n]\n",
    "\n",
    "print(fib3(5))\n",
    "print(fib3(50))"
   ],
   "metadata": {
    "collapsed": false,
    "pycharm": {
     "name": "#%%\n",
     "is_executing": false
    }
   }
  },
  {
   "cell_type": "markdown",
   "source": [
    "A call to fib3(20) will result in just 39 calls of fib3() as opposed to the 21,891 of fib2() resulting from the call fib2(20). \n",
    "memo is pre-filled with the earlier base cases of 0 and 1, saving fib3() from the complexity of another if statement.\n"
   ],
   "metadata": {
    "collapsed": false
   }
  },
  {
   "cell_type": "markdown",
   "source": [
    "## Automatic memoization\n",
    "fib3() can be further simplified. Python has a built-in decorator for memoizing any function automagically. In fib4(), \n",
    "the decorator @functools.lru_cache() is used with the same exact code as we used in fib2(). Each time fib4() is executed \n",
    "with a novel argument, the decorator causes the return value to be cached. Upon future calls of fib4() with the same argument, \n",
    "the previous return value of fib4() for that argu- ment is retrieved from the cache and returned.\n"
   ],
   "metadata": {
    "collapsed": false
   }
  },
  {
   "cell_type": "code",
   "execution_count": 8,
   "outputs": [
    {
     "name": "stdout",
     "text": [
      "5\n12586269025\n"
     ],
     "output_type": "stream"
    }
   ],
   "source": [
    "from functools import lru_cache\n",
    "\n",
    "\n",
    "@lru_cache(maxsize=None)\n",
    "def fib4(n: int) -> int: # same definition as fib2()\n",
    "    if n < 2: #basecase \n",
    "        return n\n",
    "    return fib4(n - 2) + fib4(n - 1) # recursive case\n",
    "\n",
    "print(fib4(5))\n",
    "print(fib4(50))"
   ],
   "metadata": {
    "collapsed": false,
    "pycharm": {
     "name": "#%%\n",
     "is_executing": false
    }
   }
  },
  {
   "cell_type": "markdown",
   "source": [
    "> **Note** that we are able to calculate fib4(50) instantly, even though the body of the Fibonacci function is the same as that in fib2(). \n",
    "@lru_cache’s maxsize property indicates how many of the most recent calls of the function it is decorating should be cached. \n",
    "Setting it to None indicates that there is no limit.\n"
   ],
   "metadata": {
    "collapsed": false
   }
  },
  {
   "cell_type": "markdown",
   "source": [
    "## Keep it simple, Fibonacci\n",
    "There is an even more performant option. We can solve Fibonacci with an old-fashioned iterative approach.\n"
   ],
   "metadata": {
    "collapsed": false,
    "pycharm": {
     "name": "#%% md\n"
    }
   }
  },
  {
   "cell_type": "code",
   "execution_count": 10,
   "outputs": [
    {
     "name": "stdout",
     "text": [
      "5\n12586269025\n"
     ],
     "output_type": "stream"
    }
   ],
   "source": [
    "def fib5(n: int) -> int:\n",
    "    if n == 0: \n",
    "        return n # special case \n",
    "    last: int = 0 # initially set to fib(0) \n",
    "    next: int = 1 # initially set to fib(1) \n",
    "    \n",
    "    for _ in range(1, n):\n",
    "        last, next = next, last + next \n",
    "    return next\n",
    "\n",
    "print(fib5(5))\n",
    "print(fib5(50))"
   ],
   "metadata": {
    "collapsed": false,
    "pycharm": {
     "name": "#%%\n",
     "is_executing": false
    }
   }
  },
  {
   "cell_type": "markdown",
   "source": [
    "> **WARNING** The body of the for loop in fib5() uses tuple unpacking in perhaps a bit of an overly clever way. \n",
    "Some may feel that it sacrifices readability for conciseness. Others may find the conciseness in and of itself more readable. \n",
    "The gist is, last is being set to the previous value of next, and next is being set to the previous value of last plus the previous value of next. \n",
    "This avoids the creation of a temporary variable to hold the old value of next after last is updated but before next is updated. \n",
    "Using tuple unpacking in this fashion for some kind of variable swap is common in Python.\n",
    "\n",
    "With this approach, the body of the for loop will run a maximum of n - 1 times. In other words, this is the most efficient version yet. \n",
    "Compare 19 runs of the for loop body to 21,891 recursive calls of fib2() for the 20th Fibonacci number. \n",
    "That could make a serious difference in a real-world application!\n",
    "\n",
    "In the recursive solutions, we worked backward. In this iterative solution, we work forward. \n",
    "Sometimes recursion is the most intuitive way to solve a problem. For exam- ple, the meat of fib1() and fib2() is pretty \n",
    "much a mechanical translation of the original Fibonacci formula. However, naive recursive solutions can also come with \n",
    "significant performance costs. Remember, any problem that can be solved recursively can also be solved iteratively.\n"
   ],
   "metadata": {
    "collapsed": false
   }
  },
  {
   "cell_type": "markdown",
   "source": [
    "## Generating Fibonacci numbers with a generator\n",
    "So far, we have written functions that output a single value in the Fibonacci sequence. What if we want to output the entire sequence up to some value instead? It is easy to convert fib5() into a Python generator using the yield statement. When the genera- tor is iterated, each iteration will spew a value from the Fibonacci sequence using a yield statement.\n"
   ],
   "metadata": {
    "collapsed": false
   }
  },
  {
   "cell_type": "code",
   "execution_count": 11,
   "outputs": [
    {
     "name": "stdout",
     "text": [
      "0\n1\n1\n2\n3\n5\n8\n13\n21\n34\n55\n89\n144\n233\n377\n610\n987\n1597\n2584\n4181\n6765\n10946\n17711\n28657\n46368\n75025\n121393\n196418\n317811\n514229\n832040\n1346269\n2178309\n3524578\n5702887\n9227465\n14930352\n24157817\n39088169\n63245986\n102334155\n165580141\n267914296\n433494437\n701408733\n1134903170\n1836311903\n2971215073\n4807526976\n7778742049\n12586269025\n"
     ],
     "output_type": "stream"
    }
   ],
   "source": [
    "from typing import Generator\n",
    "\n",
    "\n",
    "def fib6(n: int) -> Generator[int, None, None]: \n",
    "    yield 0 # special case\n",
    "    if n > 0: yield 1 # special case\n",
    "    last: int = 0 # initially set to fib(0) \n",
    "    next: int = 1 # initially set to fib(1) \n",
    "    \n",
    "    for _ in range(1, n):\n",
    "        last, next = next, last + next \n",
    "        yield next # main generation step\n",
    "\n",
    "for i in fib6(50):\n",
    "    print(i)"
   ],
   "metadata": {
    "collapsed": false,
    "pycharm": {
     "name": "#%%\n",
     "is_executing": false
    }
   }
  },
  {
   "cell_type": "markdown",
   "source": [
    "If you run fib6, you will see 51 numbers in the Fibonacci sequence printed. \n",
    "For each iteration of the for loop ```for i in fib6(50):, fib6()``` runs through to a yield statement. \n",
    "If the end of the function is reached and there are no more yield statements, the loop finishes iterating.\n"
   ],
   "metadata": {
    "collapsed": false
   }
  }
 ],
 "metadata": {
  "language_info": {
   "codemirror_mode": {
    "name": "ipython",
    "version": 2
   },
   "file_extension": ".py",
   "mimetype": "text/x-python",
   "name": "python",
   "nbconvert_exporter": "python",
   "pygments_lexer": "ipython2",
   "version": "2.7.6"
  },
  "kernelspec": {
   "name": "python3",
   "language": "python",
   "display_name": "Python 3"
  },
  "pycharm": {
   "stem_cell": {
    "cell_type": "raw",
    "source": [],
    "metadata": {
     "collapsed": false
    }
   }
  }
 },
 "nbformat": 4,
 "nbformat_minor": 0
}